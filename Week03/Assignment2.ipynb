{
 "cells": [
  {
   "cell_type": "code",
   "execution_count": 27,
   "metadata": {},
   "outputs": [],
   "source": [
    "# Shovan Biswas\n",
    "# Data620, Assignment 02\n",
    "\n",
    "import networkx as nx\n",
    "import matplotlib.pyplot as plt\n",
    "from pyvis import network as net\n",
    "%matplotlib inline"
   ]
  },
  {
   "cell_type": "markdown",
   "metadata": {},
   "source": [
    "## Short description of the database\n",
    "The file adjnoun.gml contains the network of common adjective and noun adjacencies for the novel \"David Copperfield\" by Charles Dickens, as described by M. Newman. Nodes represent the most commonly occurring adjectives and ##nouns in the book. Node values are 0 for adjectives and 1 for nouns.  Edges connect any pair of words that occur in adjacent position in the text of the book.  Please cite M. E. J. Newman, Finding community structure in networks using the eigenvectors of matrices, Preprint physics/0605087 (2006).\n",
    "\n",
    "The website (below) provides a file, called adjnoun.gml, which has gml format. \n",
    "\n",
    "Link to site: http://networkdata.ics.uci.edu/data/adjnoun/adjnoun.gml"
   ]
  },
  {
   "cell_type": "code",
   "execution_count": 8,
   "metadata": {},
   "outputs": [
    {
     "name": "stdout",
     "output_type": "stream",
     "text": [
      "Name: \n",
      "Type: Graph\n",
      "Number of nodes: 112\n",
      "Number of edges: 425\n",
      "Average degree:   7.5893\n",
      "\n",
      "Graph Diameter: 5\n"
     ]
    }
   ],
   "source": [
    "#load file\n",
    "file = 'adjnoun.gml'\n",
    "G = nx.read_gml(file)\n",
    "#\n",
    "print(nx.info(G))\n",
    "print('\\nGraph Diameter:', nx.diameter(G)) # largest number of vertices to be travelled between one certex to another."
   ]
  },
  {
   "cell_type": "markdown",
   "metadata": {},
   "source": [
    "## \"little\" guy with maximum friends\n",
    "In the following loop, we'll compute the number of neighbors connected to each word. We'll see that although little i.e. the word is \"little\", it has the highest number of neighbors in the novel David Copperfield. 49 neighbors."
   ]
  },
  {
   "cell_type": "code",
   "execution_count": 16,
   "metadata": {
    "scrolled": false
   },
   "outputs": [
    {
     "name": "stdout",
     "output_type": "stream",
     "text": [
      "agreeable: 3\n",
      "man: 14\n",
      "old: 33\n",
      "person: 9\n",
      "anything: 2\n",
      "short: 7\n",
      "arm: 6\n",
      "round: 11\n",
      "aunt: 1\n",
      "first: 17\n",
      "bad: 4\n",
      "air: 7\n",
      "boy: 10\n",
      "beautiful: 6\n",
      "black: 12\n",
      "face: 12\n",
      "letter: 3\n",
      "little: 49\n",
      "young: 14\n",
      "best: 9\n",
      "course: 5\n",
      "friend: 10\n",
      "love: 5\n",
      "part: 8\n",
      "room: 15\n",
      "thing: 14\n",
      "time: 11\n",
      "way: 15\n",
      "better: 13\n",
      "heart: 5\n",
      "mind: 6\n",
      "place: 12\n",
      "right: 10\n",
      "state: 5\n",
      "woman: 7\n",
      "word: 6\n",
      "door: 7\n",
      "eye: 10\n",
      "bright: 9\n",
      "evening: 5\n",
      "morning: 4\n",
      "certain: 8\n",
      "day: 7\n",
      "other: 28\n",
      "child: 7\n",
      "happy: 6\n",
      "common: 3\n",
      "dark: 5\n",
      "kind: 10\n",
      "night: 5\n",
      "dear: 15\n",
      "good: 28\n",
      "home: 7\n",
      "mother: 6\n",
      "pretty: 13\n",
      "open: 3\n",
      "early: 4\n",
      "fire: 3\n",
      "full: 2\n",
      "great: 13\n",
      "master: 5\n",
      "moment: 2\n",
      "work: 2\n",
      "general: 5\n",
      "fancy: 1\n",
      "voice: 6\n",
      "head: 7\n",
      "hope: 4\n",
      "long: 12\n",
      "greater: 2\n",
      "hand: 12\n",
      "hard: 6\n",
      "red: 7\n",
      "life: 7\n",
      "glad: 1\n",
      "large: 10\n",
      "new: 12\n",
      "white: 3\n",
      "late: 3\n",
      "whole: 13\n",
      "light: 8\n",
      "manner: 6\n",
      "bed: 1\n",
      "house: 5\n",
      "low: 6\n",
      "money: 2\n",
      "ready: 2\n",
      "small: 10\n",
      "strange: 6\n",
      "thought: 7\n",
      "lost: 1\n",
      "alone: 1\n",
      "nothing: 6\n",
      "miserable: 2\n",
      "natural: 3\n",
      "half: 1\n",
      "wrong: 3\n",
      "name: 1\n",
      "pleasant: 5\n",
      "possible: 2\n",
      "side: 3\n",
      "perfect: 2\n",
      "poor: 10\n",
      "quiet: 9\n",
      "same: 21\n",
      "strong: 7\n",
      "something: 6\n",
      "true: 2\n",
      "usual: 4\n",
      "family: 1\n",
      "world: 2\n",
      "year: 1\n"
     ]
    }
   ],
   "source": [
    "for n in G.nodes():\n",
    "    print (n + ': ' + str(len(list(G.neighbors(n)))))"
   ]
  },
  {
   "cell_type": "markdown",
   "metadata": {},
   "source": [
    "## Concept of centrality\n",
    "The concept of \"Centrality\" gives an idea of the measure of the number of words connected to it. It's exact value is quotient of number of neighbors connected to a node, divided by the total number of nodes. In the following we'll compute the centrality."
   ]
  },
  {
   "cell_type": "code",
   "execution_count": 21,
   "metadata": {
    "scrolled": true
   },
   "outputs": [
    {
     "name": "stdout",
     "output_type": "stream",
     "text": [
      "Total number of neighbors of 'little':  49\n",
      "Total number of nodes in the Graph is:  112\n",
      "Degree Centrality of 'little' is:  0.44144144144144143\n"
     ]
    }
   ],
   "source": [
    "number_of_neighbors_little = len(list(G.neighbors('little')))\n",
    "num_of_nodes = len(G.nodes())\n",
    "print(\"Total number of neighbors of 'little': \", number_of_neighbors_little)\n",
    "print(\"Total number of nodes in the Graph is: \", num_of_nodes)\n",
    "print(\"Degree Centrality of 'little' is: \", number_of_neighbors_little/(len(G.nodes()) - 1))"
   ]
  },
  {
   "cell_type": "markdown",
   "metadata": {},
   "source": [
    "## Computation of centrality by NetworkX function degree_centrality()\n",
    "So at this point, we learn that in David Copperfield, the word 'little' has the highest number of connections and has a centrality to it. When we are dealing with words, Centrality may not be as important as in certain other types of databases, like a movie or a database of a neighborhood. If words in the screen play of a movie can be rendered in gml format, then one can get an idea of who the central character is, who has a relatively minor role and so forth.\n",
    "\n",
    "For this reason, NetworkX comes with function degree_centrality(), and we'll use to verify our semi-manual computation above. "
   ]
  },
  {
   "cell_type": "code",
   "execution_count": 22,
   "metadata": {},
   "outputs": [
    {
     "name": "stdout",
     "output_type": "stream",
     "text": [
      "Maximum degree of centrality:  0.44144144144144143\n"
     ]
    }
   ],
   "source": [
    "print(\"Maximum degree of centrality: \", max(list(nx.degree_centrality(G).values())))"
   ]
  },
  {
   "cell_type": "markdown",
   "metadata": {},
   "source": [
    "This matches with what we semi-manually computed before.\n",
    "\n",
    "Having learned about centrality, we'll produce a list of tuples of each word in David Copperfield and its centrality.\n",
    "\n",
    "The word 'little' is in there, with its centrality."
   ]
  },
  {
   "cell_type": "code",
   "execution_count": 25,
   "metadata": {
    "scrolled": false
   },
   "outputs": [
    {
     "data": {
      "text/plain": [
       "[('agreeable', 0.02702702702702703),\n",
       " ('man', 0.12612612612612611),\n",
       " ('old', 0.2972972972972973),\n",
       " ('person', 0.08108108108108109),\n",
       " ('anything', 0.018018018018018018),\n",
       " ('short', 0.06306306306306306),\n",
       " ('arm', 0.05405405405405406),\n",
       " ('round', 0.0990990990990991),\n",
       " ('aunt', 0.009009009009009009),\n",
       " ('first', 0.15315315315315314),\n",
       " ('bad', 0.036036036036036036),\n",
       " ('air', 0.06306306306306306),\n",
       " ('boy', 0.09009009009009009),\n",
       " ('beautiful', 0.05405405405405406),\n",
       " ('black', 0.10810810810810811),\n",
       " ('face', 0.10810810810810811),\n",
       " ('letter', 0.02702702702702703),\n",
       " ('little', 0.44144144144144143),\n",
       " ('young', 0.12612612612612611),\n",
       " ('best', 0.08108108108108109),\n",
       " ('course', 0.04504504504504504),\n",
       " ('friend', 0.09009009009009009),\n",
       " ('love', 0.04504504504504504),\n",
       " ('part', 0.07207207207207207),\n",
       " ('room', 0.13513513513513514),\n",
       " ('thing', 0.12612612612612611),\n",
       " ('time', 0.0990990990990991),\n",
       " ('way', 0.13513513513513514),\n",
       " ('better', 0.11711711711711711),\n",
       " ('heart', 0.04504504504504504),\n",
       " ('mind', 0.05405405405405406),\n",
       " ('place', 0.10810810810810811),\n",
       " ('right', 0.09009009009009009),\n",
       " ('state', 0.04504504504504504),\n",
       " ('woman', 0.06306306306306306),\n",
       " ('word', 0.05405405405405406),\n",
       " ('door', 0.06306306306306306),\n",
       " ('eye', 0.09009009009009009),\n",
       " ('bright', 0.08108108108108109),\n",
       " ('evening', 0.04504504504504504),\n",
       " ('morning', 0.036036036036036036),\n",
       " ('certain', 0.07207207207207207),\n",
       " ('day', 0.06306306306306306),\n",
       " ('other', 0.25225225225225223),\n",
       " ('child', 0.06306306306306306),\n",
       " ('happy', 0.05405405405405406),\n",
       " ('common', 0.02702702702702703),\n",
       " ('dark', 0.04504504504504504),\n",
       " ('kind', 0.09009009009009009),\n",
       " ('night', 0.04504504504504504),\n",
       " ('dear', 0.13513513513513514),\n",
       " ('good', 0.25225225225225223),\n",
       " ('home', 0.06306306306306306),\n",
       " ('mother', 0.05405405405405406),\n",
       " ('pretty', 0.11711711711711711),\n",
       " ('open', 0.02702702702702703),\n",
       " ('early', 0.036036036036036036),\n",
       " ('fire', 0.02702702702702703),\n",
       " ('full', 0.018018018018018018),\n",
       " ('great', 0.11711711711711711),\n",
       " ('master', 0.04504504504504504),\n",
       " ('moment', 0.018018018018018018),\n",
       " ('work', 0.018018018018018018),\n",
       " ('general', 0.04504504504504504),\n",
       " ('fancy', 0.009009009009009009),\n",
       " ('voice', 0.05405405405405406),\n",
       " ('head', 0.06306306306306306),\n",
       " ('hope', 0.036036036036036036),\n",
       " ('long', 0.10810810810810811),\n",
       " ('greater', 0.018018018018018018),\n",
       " ('hand', 0.10810810810810811),\n",
       " ('hard', 0.05405405405405406),\n",
       " ('red', 0.06306306306306306),\n",
       " ('life', 0.06306306306306306),\n",
       " ('glad', 0.009009009009009009),\n",
       " ('large', 0.09009009009009009),\n",
       " ('new', 0.10810810810810811),\n",
       " ('white', 0.02702702702702703),\n",
       " ('late', 0.02702702702702703),\n",
       " ('whole', 0.11711711711711711),\n",
       " ('light', 0.07207207207207207),\n",
       " ('manner', 0.05405405405405406),\n",
       " ('bed', 0.009009009009009009),\n",
       " ('house', 0.04504504504504504),\n",
       " ('low', 0.05405405405405406),\n",
       " ('money', 0.018018018018018018),\n",
       " ('ready', 0.018018018018018018),\n",
       " ('small', 0.09009009009009009),\n",
       " ('strange', 0.05405405405405406),\n",
       " ('thought', 0.06306306306306306),\n",
       " ('lost', 0.009009009009009009),\n",
       " ('alone', 0.009009009009009009),\n",
       " ('nothing', 0.05405405405405406),\n",
       " ('miserable', 0.018018018018018018),\n",
       " ('natural', 0.02702702702702703),\n",
       " ('half', 0.009009009009009009),\n",
       " ('wrong', 0.02702702702702703),\n",
       " ('name', 0.009009009009009009),\n",
       " ('pleasant', 0.04504504504504504),\n",
       " ('possible', 0.018018018018018018),\n",
       " ('side', 0.02702702702702703),\n",
       " ('perfect', 0.018018018018018018),\n",
       " ('poor', 0.09009009009009009),\n",
       " ('quiet', 0.08108108108108109),\n",
       " ('same', 0.1891891891891892),\n",
       " ('strong', 0.06306306306306306),\n",
       " ('something', 0.05405405405405406),\n",
       " ('true', 0.018018018018018018),\n",
       " ('usual', 0.036036036036036036),\n",
       " ('family', 0.009009009009009009),\n",
       " ('world', 0.018018018018018018),\n",
       " ('year', 0.009009009009009009)]"
      ]
     },
     "execution_count": 25,
     "metadata": {},
     "output_type": "execute_result"
    }
   ],
   "source": [
    "list(nx.degree_centrality(G).items())"
   ]
  },
  {
   "cell_type": "markdown",
   "metadata": {},
   "source": [
    "## Graph of the words\n",
    "Now, we come the visually most interesting part--the graph of the network of words. "
   ]
  },
  {
   "cell_type": "code",
   "execution_count": 28,
   "metadata": {},
   "outputs": [
    {
     "data": {
      "text/html": [
       "\n",
       "        <iframe\n",
       "            width=\"100%\"\n",
       "            height=\"800px\"\n",
       "            src=\"basic.html\"\n",
       "            frameborder=\"0\"\n",
       "            allowfullscreen\n",
       "        ></iframe>\n",
       "        "
      ],
      "text/plain": [
       "<IPython.lib.display.IFrame at 0x241f1b0d188>"
      ]
     },
     "execution_count": 28,
     "metadata": {},
     "output_type": "execute_result"
    }
   ],
   "source": [
    "n = net.Network(height = \"800px\", width = \"100%\", notebook = True)\n",
    "nxg = nx.Graph(G)\n",
    "n.from_nx(nxg)\n",
    "n.show(\"basic.html\")"
   ]
  }
 ],
 "metadata": {
  "kernelspec": {
   "display_name": "Python 3",
   "language": "python",
   "name": "python3"
  },
  "language_info": {
   "codemirror_mode": {
    "name": "ipython",
    "version": 3
   },
   "file_extension": ".py",
   "mimetype": "text/x-python",
   "name": "python",
   "nbconvert_exporter": "python",
   "pygments_lexer": "ipython3",
   "version": "3.7.4"
  }
 },
 "nbformat": 4,
 "nbformat_minor": 2
}
