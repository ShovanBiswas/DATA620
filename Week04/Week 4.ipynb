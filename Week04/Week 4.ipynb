{
 "cells": [
  {
   "cell_type": "markdown",
   "metadata": {},
   "source": [
    "# Week 4"
   ]
  },
  {
   "cell_type": "markdown",
   "metadata": {},
   "source": [
    "Shovan Biswas, Randy Thompson, Ben Horvath"
   ]
  },
  {
   "cell_type": "markdown",
   "metadata": {},
   "source": [
    "## The Dataset"
   ]
  },
  {
   "cell_type": "markdown",
   "metadata": {},
   "source": [
    "Our data set is from <http://networkdata.ics.uci.edu/data/polblogs/>. The network maps the links among political blogs during the 2004 election. That is, each node is a blog and each edge is a HTML link.\n",
    "\n",
    "Additionally, each node is coded with a political valence, left/liberal or right/conservative (0 or 1, respectively). "
   ]
  },
  {
   "cell_type": "markdown",
   "metadata": {},
   "source": [
    "## Plan for Analysis"
   ]
  },
  {
   "cell_type": "markdown",
   "metadata": {},
   "source": [
    "The data set is available in .GML format, so should be easily loaded into Python using standard tools.\n",
    "\n",
    "From there, we can determine whether degree centrality (or other measures) allows us to predict the politics of a particular blog. Are either liberals or conservatives more or less stingy with their links?"
   ]
  }
 ],
 "metadata": {
  "kernelspec": {
   "display_name": "Python 3",
   "language": "python",
   "name": "python3"
  },
  "language_info": {
   "codemirror_mode": {
    "name": "ipython",
    "version": 3
   },
   "file_extension": ".py",
   "mimetype": "text/x-python",
   "name": "python",
   "nbconvert_exporter": "python",
   "pygments_lexer": "ipython3",
   "version": "3.7.4"
  }
 },
 "nbformat": 4,
 "nbformat_minor": 2
}
