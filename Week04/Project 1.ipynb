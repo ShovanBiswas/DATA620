{
 "cells": [
  {
   "cell_type": "markdown",
   "metadata": {},
   "source": [
    "# Political blogs as networks in the 2004 election\n",
    "\n",
    "#### Shovan Biswass, Randy Thompson, Ben Horvath\n"
   ]
  },
  {
   "cell_type": "markdown",
   "metadata": {},
   "source": [
    "This notebook compares the centrality between American conservative and liberal blogs during the 2004 election.\n",
    "\n",
    "We found that influence in the liberal blogosphere is concentrated in a few top blogs, whereas influence in the conservative blogs is more widely distributed.\n"
   ]
  },
  {
   "cell_type": "markdown",
   "metadata": {},
   "source": [
    "First, load essential libraries:"
   ]
  },
  {
   "cell_type": "code",
   "execution_count": 6,
   "metadata": {},
   "outputs": [],
   "source": [
    "import itertools\n",
    "from urllib.request import urlopen\n",
    "\n",
    "import matplotlib.pyplot as plot\n",
    "import networkx as nx\n",
    "from networkx.algorithms import traversal as tr\n",
    "from networkx.algorithms.components import connected_components as cc\n",
    "import networkx.generators.small as sm\n",
    "import numpy as np\n",
    "import pandas as pd\n",
    "import igraph as ig\n",
    "\n",
    "# Set plot size globally\n",
    "plot.rcParams['figure.figsize'] = [10, 5]"
   ]
  },
  {
   "cell_type": "markdown",
   "metadata": {},
   "source": [
    "## Load the data"
   ]
  },
  {
   "cell_type": "markdown",
   "metadata": {},
   "source": [
    "Our data was collected by researchers Lada Adamic and Natalie Glance and 2005. They crawled the top political blogs of the period, saving the HTML links between them, and storing them in a machine readable format. The dataset is accessible from: http://networkdata.ics.uci.edu/data/polblogs/.\n",
    "\n",
    "It is important to note that this network is a _directed multigraph_, which allows each node multiple directions. This makes sense: Just because blog A links to blog B, it does not follow that blog B links to blog A. This means the analysis is a bit different from an undirected graph."
   ]
  },
  {
   "cell_type": "code",
   "execution_count": 7,
   "metadata": {},
   "outputs": [
    {
     "name": "stdout",
     "output_type": "stream",
     "text": [
      "1490 19090\n"
     ]
    }
   ],
   "source": [
    "G = nx.readwrite.read_gml(\"polblogs.gml\")\n",
    "\n",
    "print( len(G.nodes()), len(G.edges()) )"
   ]
  },
  {
   "cell_type": "markdown",
   "metadata": {},
   "source": [
    "The network graph consists of 1490 political blogs, reprented as nodes, and about 19 thousand links between them (edges).\n",
    "\n",
    "We can directly examine what these nodes look like by key. The `value` takes either 0 or 1, where 0 indicates a left or liberal blog, and 1 indicates a right or conservative blog:"
   ]
  },
  {
   "cell_type": "code",
   "execution_count": 4,
   "metadata": {},
   "outputs": [
    {
     "data": {
      "text/plain": [
       "{'value': 0, 'source': 'Blogarama'}"
      ]
     },
     "execution_count": 4,
     "metadata": {},
     "output_type": "execute_result"
    }
   ],
   "source": [
    "G.nodes()['100monkeystyping.com']"
   ]
  },
  {
   "cell_type": "markdown",
   "metadata": {},
   "source": [
    "## Centrality"
   ]
  },
  {
   "cell_type": "markdown",
   "metadata": {},
   "source": [
    "The first question we ask is: What blogs are most important in this network? We examine the _centrality_ of the network to answer this. Each node in the graph has a _degree_, i.e., the number of connections between it and other nodes, i.e., HTML links.\n",
    "\n",
    "The `degree` function calculates the degree of every node in a graph, and a custom `sorted_tuple` function puts it in descending order:"
   ]
  },
  {
   "cell_type": "code",
   "execution_count": 8,
   "metadata": {},
   "outputs": [
    {
     "data": {
      "text/plain": [
       "[('blogsforbush.com', 468),\n",
       " ('dailykos.com', 384),\n",
       " ('instapundit.com', 363),\n",
       " ('atrios.blogspot.com', 351),\n",
       " ('talkingpointsmemo.com', 283),\n",
       " ('washingtonmonthly.com', 256),\n",
       " ('drudgereport.com', 245),\n",
       " ('powerlineblog.com', 236),\n",
       " ('michellemalkin.com', 229),\n",
       " ('hughhewitt.com', 225)]"
      ]
     },
     "execution_count": 8,
     "metadata": {},
     "output_type": "execute_result"
    }
   ],
   "source": [
    "def sorted_tuple(map):\n",
    "    \"\"\" Sorts a list of (k, v) tuples by v (desc).\"\"\"\n",
    "    ms = sorted(map, key = lambda kv: (-kv[1], kv[0]))\n",
    "    return ms\n",
    "\n",
    "deg = nx.degree(G)\n",
    "deg_sorted = sorted_tuple(deg)\n",
    "deg_sorted[:10]"
   ]
  },
  {
   "cell_type": "markdown",
   "metadata": {},
   "source": [
    "A more sophisticated way to measure centrality is _closeness centrality_. The algorithm iterates through the network, and is an attempt to represent how central a node is to the network.\n",
    "\n",
    "There is substantial overlap between this measure and the more primitive measure above."
   ]
  },
  {
   "cell_type": "code",
   "execution_count": 10,
   "metadata": {},
   "outputs": [
    {
     "name": "stdout",
     "output_type": "stream",
     "text": [
      "[('dailykos.com', 0.3677362450836158), ('instapundit.com', 0.3514046453768085), ('talkingpointsmemo.com', 0.34605155249883257), ('atrios.blogspot.com', 0.34537268726587755), ('drudgereport.com', 0.3304621817621418), ('washingtonmonthly.com', 0.32968862796588216), ('powerlineblog.com', 0.3290723875397777), ('andrewsullivan.com', 0.323298591006189), ('nationalreview.com/thecorner', 0.32053477894179533), ('talkleft.com', 0.3138212608445295)]\n"
     ]
    }
   ],
   "source": [
    "#sorting function from SNA textbook, edited for dict object\n",
    "def sorted_map(map):\n",
    "    ms = sorted(map.items(), key = lambda kv: (-kv[1], kv[0]))\n",
    "    return ms\n",
    "\n",
    "# measure of node’s centrality\n",
    "c = nx.closeness_centrality(G)\n",
    "cs = sorted_map(c)\n",
    "print(cs[:10])"
   ]
  },
  {
   "cell_type": "markdown",
   "metadata": {},
   "source": [
    "We can also segment the network into its liberal and conservative blogs, and run this algorithm on each seperately:"
   ]
  },
  {
   "cell_type": "code",
   "execution_count": 12,
   "metadata": {},
   "outputs": [],
   "source": [
    "# Define liberal subgraph\n",
    "libs = [n for n,v in G.nodes(data=True) if v['value'] == 0]  \n",
    "G_libs = G.subgraph(libs)\n",
    "\n",
    "# Define conservative subgraph\n",
    "cons = [n for n,v in G.nodes(data=True) if v['value'] == 1]  \n",
    "G_cons = G.subgraph(cons)"
   ]
  },
  {
   "cell_type": "markdown",
   "metadata": {},
   "source": [
    "Thus DailyKos, Atrios, and TPM are the most central liberal blogs, while Druge, Instapundit, and BlogsForBush are the most central conservative blogs:"
   ]
  },
  {
   "cell_type": "code",
   "execution_count": 13,
   "metadata": {},
   "outputs": [
    {
     "name": "stdout",
     "output_type": "stream",
     "text": [
      "[('dailykos.com', 0.4370256879099083), ('atrios.blogspot.com', 0.4094114274101064), ('talkingpointsmemo.com', 0.3952937919821717), ('juancole.com', 0.34657153390064815), ('washingtonmonthly.com', 0.3410200447992648), ('talkleft.com', 0.33488934736467124), ('digbysblog.blogspot.com', 0.3300681275244268), ('pandagon.net', 0.3289751867048096), ('prospect.org/weblog', 0.3268108762659621), ('thismodernworld.com', 0.3211762059855145)]\n"
     ]
    }
   ],
   "source": [
    "# measure of node’s centrality: liberal\n",
    "c_libs = nx.closeness_centrality(G_libs)\n",
    "cs_libs = sorted_map(c_libs)\n",
    "print(cs_libs[:10])"
   ]
  },
  {
   "cell_type": "code",
   "execution_count": 14,
   "metadata": {},
   "outputs": [
    {
     "name": "stdout",
     "output_type": "stream",
     "text": [
      "[('drudgereport.com', 0.4236693780099153), ('instapundit.com', 0.4230843680004424), ('blogsforbush.com', 0.41134561096921635), ('powerlineblog.com', 0.4025044722719141), ('littlegreenfootballs.com/weblog', 0.39186558754226003), ('michellemalkin.com', 0.3892931657422014), ('hughhewitt.com', 0.3749356728012351), ('captainsquartersblog.com/mt', 0.3698689745201373), ('nationalreview.com/thecorner', 0.3683374259713997), ('lashawnbarber.com', 0.36419033110375854)]\n"
     ]
    }
   ],
   "source": [
    "# measure of node’s centrality: Conservative\n",
    "c_cons = nx.closeness_centrality(G_cons)\n",
    "cs_cons = sorted_map(c_cons)\n",
    "print(cs_cons[:10])"
   ]
  },
  {
   "cell_type": "markdown",
   "metadata": {},
   "source": [
    "How does centrality vary between the two political persuasions? The histogram shows that liberals have a greater portion of the distribution at zero, compared to conservatives. The conservative distribution is substantially to the right. This suggests the liberal blogosphere has greater proportion of uninfluential blogs and that influence is more heavily concentrated to a few top blogs. Whereas conservatives have a wider landscape."
   ]
  },
  {
   "cell_type": "code",
   "execution_count": 10,
   "metadata": {},
   "outputs": [
    {
     "data": {
      "text/plain": [
       "<matplotlib.legend.Legend at 0x11c468f60>"
      ]
     },
     "execution_count": 10,
     "metadata": {},
     "output_type": "execute_result"
    },
    {
     "data": {
      "image/png": "[encoded data removed]",
      "text/plain": [
       "<Figure size 432x288 with 1 Axes>"
      ]
     },
     "metadata": {
      "needs_background": "light"
     },
     "output_type": "display_data"
    }
   ],
   "source": [
    "lib_centrality = [i[1] for i in cs_libs]\n",
    "con_centrality = [i[1] for i in cs_cons]\n",
    "\n",
    "plot.hist(lib_centrality, 100, alpha=0.5, label='liberal')\n",
    "plot.hist(con_centrality, 100, alpha=0.5, label='conservative')\n",
    "plot.legend(loc='upper right')"
   ]
  },
  {
   "cell_type": "markdown",
   "metadata": {},
   "source": [
    "## Betweenness"
   ]
  },
  {
   "cell_type": "markdown",
   "metadata": {},
   "source": [
    "Next, we are going to look at Eigenvector Centrality. This measures community bridges or boundary-spanners. This list of blogs might be considered centrist blogs since they have linkages between both liberal and conservative communities. "
   ]
  },
  {
   "cell_type": "code",
   "execution_count": 11,
   "metadata": {},
   "outputs": [
    {
     "name": "stdout",
     "output_type": "stream",
     "text": [
      "[('dailykos.com', 0.1642218994937242), ('atrios.blogspot.com', 0.1605328031648251), ('talkingpointsmemo.com', 0.1492884590730164), ('washingtonmonthly.com', 0.13964832618172254), ('liberaloasis.com', 0.11899790925753914), ('digbysblog.blogspot.com', 0.11788580430662415), ('instapundit.com', 0.1133611980190733), ('bodyandsoul.typepad.com', 0.11122778589521791), ('pandagon.net', 0.10815333461885308), ('talkleft.com', 0.1074081857426938)]\n"
     ]
    }
   ],
   "source": [
    "#copy graph\n",
    "Gtest = G\n",
    "#set weight attribute to 1\n",
    "nx.set_edge_attributes(Gtest, 1, name=\"weight\")\n",
    "#turn networkx graph into igraph graph\n",
    "g = ig.Graph.TupleList(Gtest.edges(), directed=True)\n",
    "#weight attribute didn't transfer so adding it again\n",
    "g.es[\"weight\"] = 1\n",
    "#simplifying multigraph and removing parallel edges by summing the weights of each edge into a single edge\n",
    "#in this case each weight is 1 \n",
    "g.simplify(combine_edges=\"sum\")\n",
    "#turning igraph graph back into networkx graph\n",
    "Gsimp = nx.from_edgelist([(names[x[0]], names[x[1]])\n",
    "                      for names in [g.vs['name']] # simply a let\n",
    "                      for x in g.get_edgelist()], nx.Graph())\n",
    "#running eigenvector centrality\n",
    "Gsimp_eg = nx.eigenvector_centrality(Gsimp)\n",
    "#sorting and printing\n",
    "eg_sort = sorted_map(Gsimp_eg)\n",
    "print(eg_sort[:10])"
   ]
  },
  {
   "cell_type": "code",
   "execution_count": 24,
   "metadata": {},
   "outputs": [
    {
     "data": {
      "text/html": [
       "<div>\n",
       "<style scoped>\n",
       "    .dataframe tbody tr th:only-of-type {\n",
       "        vertical-align: middle;\n",
       "    }\n",
       "\n",
       "    .dataframe tbody tr th {\n",
       "        vertical-align: top;\n",
       "    }\n",
       "\n",
       "    .dataframe thead th {\n",
       "        text-align: right;\n",
       "    }\n",
       "</style>\n",
       "<table border=\"1\" class=\"dataframe\">\n",
       "  <thead>\n",
       "    <tr style=\"text-align: right;\">\n",
       "      <th></th>\n",
       "      <th>blog</th>\n",
       "      <th>degrees</th>\n",
       "      <th>closeness</th>\n",
       "      <th>betweenness</th>\n",
       "    </tr>\n",
       "  </thead>\n",
       "  <tbody>\n",
       "    <tr>\n",
       "      <th>8</th>\n",
       "      <td>blogsforbush.com</td>\n",
       "      <td>468</td>\n",
       "      <td>0.392334</td>\n",
       "      <td>0.051799</td>\n",
       "    </tr>\n",
       "    <tr>\n",
       "      <th>5</th>\n",
       "      <td>dailykos.com</td>\n",
       "      <td>384</td>\n",
       "      <td>0.425334</td>\n",
       "      <td>0.164222</td>\n",
       "    </tr>\n",
       "    <tr>\n",
       "      <th>10</th>\n",
       "      <td>instapundit.com</td>\n",
       "      <td>363</td>\n",
       "      <td>0.425877</td>\n",
       "      <td>0.113361</td>\n",
       "    </tr>\n",
       "    <tr>\n",
       "      <th>0</th>\n",
       "      <td>atrios.blogspot.com</td>\n",
       "      <td>351</td>\n",
       "      <td>0.408668</td>\n",
       "      <td>0.160533</td>\n",
       "    </tr>\n",
       "    <tr>\n",
       "      <th>13</th>\n",
       "      <td>talkingpointsmemo.com</td>\n",
       "      <td>283</td>\n",
       "      <td>0.412541</td>\n",
       "      <td>0.149288</td>\n",
       "    </tr>\n",
       "    <tr>\n",
       "      <th>15</th>\n",
       "      <td>washingtonmonthly.com</td>\n",
       "      <td>256</td>\n",
       "      <td>0.401942</td>\n",
       "      <td>0.139648</td>\n",
       "    </tr>\n",
       "    <tr>\n",
       "      <th>1</th>\n",
       "      <td>drudgereport.com</td>\n",
       "      <td>245</td>\n",
       "      <td>0.397790</td>\n",
       "      <td>0.053046</td>\n",
       "    </tr>\n",
       "    <tr>\n",
       "      <th>16</th>\n",
       "      <td>powerlineblog.com</td>\n",
       "      <td>236</td>\n",
       "      <td>0.389132</td>\n",
       "      <td>0.074296</td>\n",
       "    </tr>\n",
       "    <tr>\n",
       "      <th>7</th>\n",
       "      <td>michellemalkin.com</td>\n",
       "      <td>229</td>\n",
       "      <td>0.397001</td>\n",
       "      <td>0.068286</td>\n",
       "    </tr>\n",
       "    <tr>\n",
       "      <th>12</th>\n",
       "      <td>hughhewitt.com</td>\n",
       "      <td>225</td>\n",
       "      <td>0.390955</td>\n",
       "      <td>0.068046</td>\n",
       "    </tr>\n",
       "    <tr>\n",
       "      <th>9</th>\n",
       "      <td>liberaloasis.com</td>\n",
       "      <td>216</td>\n",
       "      <td>0.361196</td>\n",
       "      <td>0.118998</td>\n",
       "    </tr>\n",
       "    <tr>\n",
       "      <th>11</th>\n",
       "      <td>littlegreenfootballs.com/weblog</td>\n",
       "      <td>208</td>\n",
       "      <td>0.405523</td>\n",
       "      <td>0.066794</td>\n",
       "    </tr>\n",
       "    <tr>\n",
       "      <th>6</th>\n",
       "      <td>truthlaidbear.com</td>\n",
       "      <td>204</td>\n",
       "      <td>0.394498</td>\n",
       "      <td>0.064120</td>\n",
       "    </tr>\n",
       "    <tr>\n",
       "      <th>4</th>\n",
       "      <td>digbysblog.blogspot.com</td>\n",
       "      <td>189</td>\n",
       "      <td>0.376263</td>\n",
       "      <td>0.117886</td>\n",
       "    </tr>\n",
       "    <tr>\n",
       "      <th>3</th>\n",
       "      <td>bodyandsoul.typepad.com</td>\n",
       "      <td>182</td>\n",
       "      <td>0.352921</td>\n",
       "      <td>0.111228</td>\n",
       "    </tr>\n",
       "    <tr>\n",
       "      <th>14</th>\n",
       "      <td>pandagon.net</td>\n",
       "      <td>171</td>\n",
       "      <td>0.367831</td>\n",
       "      <td>0.108153</td>\n",
       "    </tr>\n",
       "    <tr>\n",
       "      <th>2</th>\n",
       "      <td>talkleft.com</td>\n",
       "      <td>162</td>\n",
       "      <td>0.383615</td>\n",
       "      <td>0.107408</td>\n",
       "    </tr>\n",
       "  </tbody>\n",
       "</table>\n",
       "</div>"
      ],
      "text/plain": [
       "                               blog  degrees  closeness  betweenness\n",
       "8                  blogsforbush.com      468   0.392334     0.051799\n",
       "5                      dailykos.com      384   0.425334     0.164222\n",
       "10                  instapundit.com      363   0.425877     0.113361\n",
       "0               atrios.blogspot.com      351   0.408668     0.160533\n",
       "13            talkingpointsmemo.com      283   0.412541     0.149288\n",
       "15            washingtonmonthly.com      256   0.401942     0.139648\n",
       "1                  drudgereport.com      245   0.397790     0.053046\n",
       "16                powerlineblog.com      236   0.389132     0.074296\n",
       "7                michellemalkin.com      229   0.397001     0.068286\n",
       "12                   hughhewitt.com      225   0.390955     0.068046\n",
       "9                  liberaloasis.com      216   0.361196     0.118998\n",
       "11  littlegreenfootballs.com/weblog      208   0.405523     0.066794\n",
       "6                 truthlaidbear.com      204   0.394498     0.064120\n",
       "4           digbysblog.blogspot.com      189   0.376263     0.117886\n",
       "3           bodyandsoul.typepad.com      182   0.352921     0.111228\n",
       "14                     pandagon.net      171   0.367831     0.108153\n",
       "2                      talkleft.com      162   0.383615     0.107408"
      ]
     },
     "execution_count": 24,
     "metadata": {},
     "output_type": "execute_result"
    }
   ],
   "source": [
    "names1=[x[0] for x in deg_sorted[:10]]\n",
    "names2=[x[0] for x in cs[:10]]\n",
    "names3=[x[0] for x in eg_sort[:10]]\n",
    "names=list(set(names1) | set(names2) | set (names3))\n",
    "table=[[name,deg[name],c[name],Gsimp_eg[name]] for name in names]\n",
    "data=pd.DataFrame(table, columns = [\"blog\", \"degrees\", \"closeness\", \"betweenness\"])\n",
    "data.sort_values('degrees', ascending=False)"
   ]
  },
  {
   "cell_type": "code",
   "execution_count": null,
   "metadata": {},
   "outputs": [],
   "source": []
  }
 ],
 "metadata": {
  "kernelspec": {
   "display_name": "Python 3",
   "language": "python",
   "name": "python3"
  },
  "language_info": {
   "codemirror_mode": {
    "name": "ipython",
    "version": 3
   },
   "file_extension": ".py",
   "mimetype": "text/x-python",
   "name": "python",
   "nbconvert_exporter": "python",
   "pygments_lexer": "ipython3",
   "version": "3.7.4"
  }
 },
 "nbformat": 4,
 "nbformat_minor": 4
}
