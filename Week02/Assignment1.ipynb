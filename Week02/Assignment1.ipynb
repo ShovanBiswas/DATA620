{
 "cells": [
  {
   "cell_type": "code",
   "execution_count": 9,
   "metadata": {},
   "outputs": [],
   "source": [
    "# Shovan Biswas\n",
    "# Data620\n",
    "\n",
    "import networkx as nx\n",
    "import matplotlib.pyplot as plt\n",
    "%matplotlib inline"
   ]
  },
  {
   "cell_type": "code",
   "execution_count": 13,
   "metadata": {},
   "outputs": [
    {
     "name": "stdout",
     "output_type": "stream",
     "text": [
      "[('Carol', 'Andre'), ('Carol', 'Diane'), ('Carol', 'Fernando'), ('Andre', 'Diane'), ('Andre', 'Beverly'), ('Andre', 'Fernando'), ('Diane', 'Beverly'), ('Diane', 'Fernando'), ('Diane', 'Garth'), ('Diane', 'Ed'), ('Fernando', 'Garth'), ('Fernando', 'Heather'), ('Beverly', 'Ed'), ('Beverly', 'Garth'), ('Ed', 'Garth'), ('Garth', 'Heather'), ('Heather', 'Ike'), ('Ike', 'Jane')]\n"
     ]
    },
    {
     "data": {
      "image/png": "[encoded data removed]",
      "text/plain": [
       "<Figure size 432x288 with 1 Axes>"
      ]
     },
     "metadata": {},
     "output_type": "display_data"
    }
   ],
   "source": [
    "#create an empty graph\n",
    "g = nx.Graph()\n",
    "\n",
    "#create edges for our graph\n",
    "g.add_edge('Carol', 'Andre')\n",
    "g.add_edge('Carol', 'Diane')\n",
    "g.add_edge('Carol', 'Fernando')\n",
    "\n",
    "g.add_edge('Andre', 'Carol')\n",
    "g.add_edge('Andre', 'Diane')\n",
    "g.add_edge('Andre', 'Beverly')\n",
    "\n",
    "g.add_edge('Beverly', 'Andre')\n",
    "g.add_edge('Beverly', 'Diane')\n",
    "g.add_edge('Beverly', 'Ed')\n",
    "\n",
    "g.add_edge('Fernando', 'Garth')\n",
    "g.add_edge('Fernando', 'Diane')\n",
    "g.add_edge('Fernando', 'Carol')\n",
    "\n",
    "g.add_edge('Garth', 'Ed')\n",
    "g.add_edge('Garth', 'Diane')\n",
    "g.add_edge('Garth', 'Fernando')\n",
    "g.add_edge('Garth', 'Heather')\n",
    "\n",
    "g.add_edge('Ed', 'Beverly')\n",
    "g.add_edge('Ed', 'Diane')\n",
    "g.add_edge('Ed', 'Garth')\n",
    "\n",
    "g.add_edge('Heather', 'Fernando')\n",
    "g.add_edge('Heather', 'Garth')\n",
    "g.add_edge('Heather', 'Ike')\n",
    "g.add_edge('Ike', 'Heather')\n",
    "g.add_edge('Ike', 'Jane')\n",
    "g.add_edge('Jane', 'Ike')\n",
    "\n",
    "g.add_edge(\"Andre\",  \"Fernando\")\n",
    "g.add_edge(\"Beverly\",  \"Garth\")\n",
    "\n",
    "\n",
    "positions = {'Andre':(0, 1), \n",
    "     'Beverly':(0, -1), \n",
    "     'Carol':(1, 2), \n",
    "     'Diane':(1, 0), \n",
    "     'Ed':(1, -2), \n",
    "     'Ike':(4, 0), \n",
    "     'Garth':(2, -1), \n",
    "     'Jane':(5, 0), \n",
    "     'Fernando':(2, 1), \n",
    "     'Heather':(3, 0)}\n",
    "\n",
    "\n",
    "#drawing the nodes\n",
    "nx.draw_networkx_nodes(g, positions, node_size = 800, node_color = '#33FFD8')\n",
    "\n",
    "# edges\n",
    "nx.draw_networkx_edges(g, positions, width = 3, edge_color = \"#f48fb1\")\n",
    "    \n",
    "# labels\n",
    "nx.draw_networkx_labels(g, positions, font_family = \"Calibri (Body)\", font_weight = \"regular\") \n",
    "\n",
    "print(list(g.edges()))\n",
    "\n",
    "# plt.axis('off')\n",
    "# plt.title('hello,  graph World')\n",
    "# plt.show()"
   ]
  }
 ],
 "metadata": {
  "kernelspec": {
   "display_name": "Python 3",
   "language": "python",
   "name": "python3"
  },
  "language_info": {
   "codemirror_mode": {
    "name": "ipython",
    "version": 3
   },
   "file_extension": ".py",
   "mimetype": "text/x-python",
   "name": "python",
   "nbconvert_exporter": "python",
   "pygments_lexer": "ipython3",
   "version": "3.7.4"
  }
 },
 "nbformat": 4,
 "nbformat_minor": 2
}
